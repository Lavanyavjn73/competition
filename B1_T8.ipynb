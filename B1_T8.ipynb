{
 "cells": [
  {
   "cell_type": "markdown",
   "id": "8ce8e823",
   "metadata": {},
   "source": [
    "# B1_T8"
   ]
  },
  {
   "cell_type": "markdown",
   "id": "5e526f9c",
   "metadata": {},
   "source": [
    "The goal of this dataset is to predict how relevant each product are to each customer,to ensure that future recommendations and sales are relevant to the customer.This database contains 22 attributes collected when a company sells a product to the customer.\n",
    "Here target variable :Column['score']"
   ]
  },
  {
   "cell_type": "code",
   "execution_count": 59,
   "id": "f8606d52",
   "metadata": {},
   "outputs": [],
   "source": [
    "import pandas as pd\n",
    "import numpy as np\n",
    "import matplotlib.pyplot as plt\n",
    "import seaborn as sns\n"
   ]
  },
  {
   "cell_type": "markdown",
   "id": "a95ddd9b",
   "metadata": {},
   "source": [
    "# Importing datset to python environment"
   ]
  },
  {
   "cell_type": "code",
   "execution_count": 60,
   "id": "25a96067",
   "metadata": {},
   "outputs": [
    {
     "data": {
      "text/html": [
       "<div>\n",
       "<style scoped>\n",
       "    .dataframe tbody tr th:only-of-type {\n",
       "        vertical-align: middle;\n",
       "    }\n",
       "\n",
       "    .dataframe tbody tr th {\n",
       "        vertical-align: top;\n",
       "    }\n",
       "\n",
       "    .dataframe thead th {\n",
       "        text-align: right;\n",
       "    }\n",
       "</style>\n",
       "<table border=\"1\" class=\"dataframe\">\n",
       "  <thead>\n",
       "    <tr style=\"text-align: right;\">\n",
       "      <th></th>\n",
       "      <th>user-id</th>\n",
       "      <th>user-age</th>\n",
       "      <th>user-gender</th>\n",
       "      <th>user-nationality</th>\n",
       "      <th>user-knowledge</th>\n",
       "      <th>user-loyalty</th>\n",
       "      <th>user-loan</th>\n",
       "      <th>user-income</th>\n",
       "      <th>user-savings</th>\n",
       "      <th>user-properties</th>\n",
       "      <th>...</th>\n",
       "      <th>user-dependents</th>\n",
       "      <th>user-pension</th>\n",
       "      <th>product-type</th>\n",
       "      <th>product-risk</th>\n",
       "      <th>product-term</th>\n",
       "      <th>product-yield</th>\n",
       "      <th>transaction-id</th>\n",
       "      <th>year</th>\n",
       "      <th>month</th>\n",
       "      <th>score</th>\n",
       "    </tr>\n",
       "  </thead>\n",
       "  <tbody>\n",
       "    <tr>\n",
       "      <th>0</th>\n",
       "      <td>ID500</td>\n",
       "      <td>41</td>\n",
       "      <td>female</td>\n",
       "      <td>local</td>\n",
       "      <td>low</td>\n",
       "      <td>sporadic</td>\n",
       "      <td>no</td>\n",
       "      <td>10822.0</td>\n",
       "      <td>132392.0</td>\n",
       "      <td>0</td>\n",
       "      <td>...</td>\n",
       "      <td>0</td>\n",
       "      <td>483040</td>\n",
       "      <td>bond</td>\n",
       "      <td>medium</td>\n",
       "      <td>30</td>\n",
       "      <td>medium</td>\n",
       "      <td>T5000</td>\n",
       "      <td>2019</td>\n",
       "      <td>9</td>\n",
       "      <td>0.061877</td>\n",
       "    </tr>\n",
       "    <tr>\n",
       "      <th>1</th>\n",
       "      <td>ID500</td>\n",
       "      <td>41</td>\n",
       "      <td>female</td>\n",
       "      <td>local</td>\n",
       "      <td>low</td>\n",
       "      <td>sporadic</td>\n",
       "      <td>no</td>\n",
       "      <td>10822.0</td>\n",
       "      <td>132392.0</td>\n",
       "      <td>0</td>\n",
       "      <td>...</td>\n",
       "      <td>0</td>\n",
       "      <td>483040</td>\n",
       "      <td>stock</td>\n",
       "      <td>high</td>\n",
       "      <td>10</td>\n",
       "      <td>high</td>\n",
       "      <td>T5001</td>\n",
       "      <td>2019</td>\n",
       "      <td>10</td>\n",
       "      <td>0.179746</td>\n",
       "    </tr>\n",
       "    <tr>\n",
       "      <th>2</th>\n",
       "      <td>ID500</td>\n",
       "      <td>41</td>\n",
       "      <td>female</td>\n",
       "      <td>local</td>\n",
       "      <td>low</td>\n",
       "      <td>sporadic</td>\n",
       "      <td>no</td>\n",
       "      <td>10822.0</td>\n",
       "      <td>132392.0</td>\n",
       "      <td>0</td>\n",
       "      <td>...</td>\n",
       "      <td>0</td>\n",
       "      <td>483040</td>\n",
       "      <td>etf</td>\n",
       "      <td>high</td>\n",
       "      <td>10</td>\n",
       "      <td>high</td>\n",
       "      <td>T5002</td>\n",
       "      <td>2019</td>\n",
       "      <td>9</td>\n",
       "      <td>0.767918</td>\n",
       "    </tr>\n",
       "    <tr>\n",
       "      <th>3</th>\n",
       "      <td>ID500</td>\n",
       "      <td>41</td>\n",
       "      <td>female</td>\n",
       "      <td>local</td>\n",
       "      <td>low</td>\n",
       "      <td>sporadic</td>\n",
       "      <td>no</td>\n",
       "      <td>NaN</td>\n",
       "      <td>132392.0</td>\n",
       "      <td>0</td>\n",
       "      <td>...</td>\n",
       "      <td>0</td>\n",
       "      <td>483040</td>\n",
       "      <td>etf</td>\n",
       "      <td>low</td>\n",
       "      <td>20</td>\n",
       "      <td>low</td>\n",
       "      <td>T5003</td>\n",
       "      <td>2017</td>\n",
       "      <td>12</td>\n",
       "      <td>0.606241</td>\n",
       "    </tr>\n",
       "    <tr>\n",
       "      <th>4</th>\n",
       "      <td>ID501</td>\n",
       "      <td>25</td>\n",
       "      <td>male</td>\n",
       "      <td>local</td>\n",
       "      <td>low</td>\n",
       "      <td>new</td>\n",
       "      <td>no</td>\n",
       "      <td>5284.0</td>\n",
       "      <td>51806.0</td>\n",
       "      <td>0</td>\n",
       "      <td>...</td>\n",
       "      <td>5</td>\n",
       "      <td>113300</td>\n",
       "      <td>etf</td>\n",
       "      <td>low</td>\n",
       "      <td>1</td>\n",
       "      <td>low</td>\n",
       "      <td>T5004</td>\n",
       "      <td>2019</td>\n",
       "      <td>10</td>\n",
       "      <td>0.829035</td>\n",
       "    </tr>\n",
       "  </tbody>\n",
       "</table>\n",
       "<p>5 rows × 22 columns</p>\n",
       "</div>"
      ],
      "text/plain": [
       "  user-id  user-age user-gender user-nationality user-knowledge user-loyalty  \\\n",
       "0   ID500        41      female            local            low     sporadic   \n",
       "1   ID500        41      female            local            low     sporadic   \n",
       "2   ID500        41      female            local            low     sporadic   \n",
       "3   ID500        41      female            local            low     sporadic   \n",
       "4   ID501        25        male            local            low          new   \n",
       "\n",
       "  user-loan  user-income  user-savings  user-properties  ... user-dependents  \\\n",
       "0        no      10822.0      132392.0                0  ...               0   \n",
       "1        no      10822.0      132392.0                0  ...               0   \n",
       "2        no      10822.0      132392.0                0  ...               0   \n",
       "3        no          NaN      132392.0                0  ...               0   \n",
       "4        no       5284.0       51806.0                0  ...               5   \n",
       "\n",
       "  user-pension  product-type  product-risk product-term product-yield  \\\n",
       "0       483040          bond        medium           30        medium   \n",
       "1       483040         stock          high           10          high   \n",
       "2       483040           etf          high           10          high   \n",
       "3       483040           etf           low           20           low   \n",
       "4       113300           etf           low            1           low   \n",
       "\n",
       "   transaction-id  year month     score  \n",
       "0           T5000  2019     9  0.061877  \n",
       "1           T5001  2019    10  0.179746  \n",
       "2           T5002  2019     9  0.767918  \n",
       "3           T5003  2017    12  0.606241  \n",
       "4           T5004  2019    10  0.829035  \n",
       "\n",
       "[5 rows x 22 columns]"
      ]
     },
     "execution_count": 60,
     "metadata": {},
     "output_type": "execute_result"
    }
   ],
   "source": [
    "df=pd.read_csv(r'C:\\Users\\Admin\\Desktop\\project team8\\dataset1.csv')\n",
    "#Displaying first 5 rows\n",
    "df.head()"
   ]
  },
  {
   "cell_type": "markdown",
   "id": "d218a45e",
   "metadata": {},
   "source": [
    "Basic information of the dataset"
   ]
  },
  {
   "cell_type": "code",
   "execution_count": 61,
   "id": "c64b246c",
   "metadata": {},
   "outputs": [
    {
     "name": "stdout",
     "output_type": "stream",
     "text": [
      "<class 'pandas.core.frame.DataFrame'>\n",
      "RangeIndex: 11385 entries, 0 to 11384\n",
      "Data columns (total 22 columns):\n",
      " #   Column             Non-Null Count  Dtype  \n",
      "---  ------             --------------  -----  \n",
      " 0   user-id            11385 non-null  object \n",
      " 1   user-age           11385 non-null  int64  \n",
      " 2   user-gender        11385 non-null  object \n",
      " 3   user-nationality   11385 non-null  object \n",
      " 4   user-knowledge     11385 non-null  object \n",
      " 5   user-loyalty       11385 non-null  object \n",
      " 6   user-loan          11385 non-null  object \n",
      " 7   user-income        11373 non-null  float64\n",
      " 8   user-savings       11380 non-null  float64\n",
      " 9   user-properties    11385 non-null  int64  \n",
      " 10  user-riskAversion  11385 non-null  object \n",
      " 11  user-marital       11385 non-null  object \n",
      " 12  user-dependents    11385 non-null  int64  \n",
      " 13  user-pension       11385 non-null  int64  \n",
      " 14  product-type       11385 non-null  object \n",
      " 15  product-risk       11385 non-null  object \n",
      " 16  product-term       11385 non-null  int64  \n",
      " 17  product-yield      11385 non-null  object \n",
      " 18  transaction-id     11385 non-null  object \n",
      " 19  year               11385 non-null  int64  \n",
      " 20  month              11385 non-null  int64  \n",
      " 21  score              11385 non-null  float64\n",
      "dtypes: float64(3), int64(7), object(12)\n",
      "memory usage: 1.9+ MB\n"
     ]
    }
   ],
   "source": [
    "#checking details of the dataset\n",
    "df.info()"
   ]
  },
  {
   "cell_type": "code",
   "execution_count": 62,
   "id": "0e1fe104",
   "metadata": {},
   "outputs": [
    {
     "data": {
      "text/plain": [
       "Index(['user-id', 'user-age', 'user-gender', 'user-nationality',\n",
       "       'user-knowledge', 'user-loyalty', 'user-loan', 'user-income',\n",
       "       'user-savings', 'user-properties', 'user-riskAversion', 'user-marital',\n",
       "       'user-dependents', 'user-pension', 'product-type', 'product-risk',\n",
       "       'product-term', 'product-yield', 'transaction-id', 'year', 'month',\n",
       "       'score'],\n",
       "      dtype='object')"
      ]
     },
     "execution_count": 62,
     "metadata": {},
     "output_type": "execute_result"
    }
   ],
   "source": [
    "#checking column names\n",
    "df.columns"
   ]
  },
  {
   "cell_type": "code",
   "execution_count": 63,
   "id": "0c27c55c",
   "metadata": {},
   "outputs": [
    {
     "data": {
      "text/plain": [
       "(11385, 22)"
      ]
     },
     "execution_count": 63,
     "metadata": {},
     "output_type": "execute_result"
    }
   ],
   "source": [
    "#checking the shape\n",
    "df.shape\n"
   ]
  },
  {
   "cell_type": "code",
   "execution_count": 64,
   "id": "40764f50",
   "metadata": {},
   "outputs": [
    {
     "data": {
      "text/html": [
       "<div>\n",
       "<style scoped>\n",
       "    .dataframe tbody tr th:only-of-type {\n",
       "        vertical-align: middle;\n",
       "    }\n",
       "\n",
       "    .dataframe tbody tr th {\n",
       "        vertical-align: top;\n",
       "    }\n",
       "\n",
       "    .dataframe thead th {\n",
       "        text-align: right;\n",
       "    }\n",
       "</style>\n",
       "<table border=\"1\" class=\"dataframe\">\n",
       "  <thead>\n",
       "    <tr style=\"text-align: right;\">\n",
       "      <th></th>\n",
       "      <th>user-age</th>\n",
       "      <th>user-income</th>\n",
       "      <th>user-savings</th>\n",
       "      <th>user-properties</th>\n",
       "      <th>user-dependents</th>\n",
       "      <th>user-pension</th>\n",
       "      <th>product-term</th>\n",
       "      <th>year</th>\n",
       "      <th>month</th>\n",
       "      <th>score</th>\n",
       "    </tr>\n",
       "  </thead>\n",
       "  <tbody>\n",
       "    <tr>\n",
       "      <th>count</th>\n",
       "      <td>11385.000000</td>\n",
       "      <td>11373.000000</td>\n",
       "      <td>11380.000000</td>\n",
       "      <td>11385.000000</td>\n",
       "      <td>11385.000000</td>\n",
       "      <td>1.138500e+04</td>\n",
       "      <td>11385.000000</td>\n",
       "      <td>11385.000000</td>\n",
       "      <td>11385.000000</td>\n",
       "      <td>11385.000000</td>\n",
       "    </tr>\n",
       "    <tr>\n",
       "      <th>mean</th>\n",
       "      <td>39.889328</td>\n",
       "      <td>10548.011606</td>\n",
       "      <td>105521.185940</td>\n",
       "      <td>1.454018</td>\n",
       "      <td>0.776372</td>\n",
       "      <td>2.421531e+06</td>\n",
       "      <td>11.700044</td>\n",
       "      <td>2017.357664</td>\n",
       "      <td>6.091787</td>\n",
       "      <td>0.524260</td>\n",
       "    </tr>\n",
       "    <tr>\n",
       "      <th>std</th>\n",
       "      <td>9.530080</td>\n",
       "      <td>3842.427608</td>\n",
       "      <td>51689.445766</td>\n",
       "      <td>1.593430</td>\n",
       "      <td>1.425432</td>\n",
       "      <td>2.554458e+06</td>\n",
       "      <td>9.879459</td>\n",
       "      <td>1.201998</td>\n",
       "      <td>3.361180</td>\n",
       "      <td>0.288521</td>\n",
       "    </tr>\n",
       "    <tr>\n",
       "      <th>min</th>\n",
       "      <td>21.000000</td>\n",
       "      <td>1505.000000</td>\n",
       "      <td>112.000000</td>\n",
       "      <td>0.000000</td>\n",
       "      <td>0.000000</td>\n",
       "      <td>0.000000e+00</td>\n",
       "      <td>1.000000</td>\n",
       "      <td>2015.000000</td>\n",
       "      <td>1.000000</td>\n",
       "      <td>0.000000</td>\n",
       "    </tr>\n",
       "    <tr>\n",
       "      <th>25%</th>\n",
       "      <td>33.000000</td>\n",
       "      <td>7669.000000</td>\n",
       "      <td>66925.000000</td>\n",
       "      <td>0.000000</td>\n",
       "      <td>0.000000</td>\n",
       "      <td>6.184000e+05</td>\n",
       "      <td>5.000000</td>\n",
       "      <td>2016.000000</td>\n",
       "      <td>3.000000</td>\n",
       "      <td>0.251313</td>\n",
       "    </tr>\n",
       "    <tr>\n",
       "      <th>50%</th>\n",
       "      <td>39.000000</td>\n",
       "      <td>10402.000000</td>\n",
       "      <td>98438.000000</td>\n",
       "      <td>1.000000</td>\n",
       "      <td>0.000000</td>\n",
       "      <td>1.643700e+06</td>\n",
       "      <td>10.000000</td>\n",
       "      <td>2018.000000</td>\n",
       "      <td>7.000000</td>\n",
       "      <td>0.596343</td>\n",
       "    </tr>\n",
       "    <tr>\n",
       "      <th>75%</th>\n",
       "      <td>47.000000</td>\n",
       "      <td>13240.000000</td>\n",
       "      <td>135536.000000</td>\n",
       "      <td>2.000000</td>\n",
       "      <td>1.000000</td>\n",
       "      <td>3.389412e+06</td>\n",
       "      <td>20.000000</td>\n",
       "      <td>2018.000000</td>\n",
       "      <td>9.000000</td>\n",
       "      <td>0.735318</td>\n",
       "    </tr>\n",
       "    <tr>\n",
       "      <th>max</th>\n",
       "      <td>74.000000</td>\n",
       "      <td>24330.000000</td>\n",
       "      <td>360259.000000</td>\n",
       "      <td>9.000000</td>\n",
       "      <td>9.000000</td>\n",
       "      <td>2.138323e+07</td>\n",
       "      <td>30.000000</td>\n",
       "      <td>2019.000000</td>\n",
       "      <td>12.000000</td>\n",
       "      <td>1.000000</td>\n",
       "    </tr>\n",
       "  </tbody>\n",
       "</table>\n",
       "</div>"
      ],
      "text/plain": [
       "           user-age   user-income   user-savings  user-properties  \\\n",
       "count  11385.000000  11373.000000   11380.000000     11385.000000   \n",
       "mean      39.889328  10548.011606  105521.185940         1.454018   \n",
       "std        9.530080   3842.427608   51689.445766         1.593430   \n",
       "min       21.000000   1505.000000     112.000000         0.000000   \n",
       "25%       33.000000   7669.000000   66925.000000         0.000000   \n",
       "50%       39.000000  10402.000000   98438.000000         1.000000   \n",
       "75%       47.000000  13240.000000  135536.000000         2.000000   \n",
       "max       74.000000  24330.000000  360259.000000         9.000000   \n",
       "\n",
       "       user-dependents  user-pension  product-term          year  \\\n",
       "count     11385.000000  1.138500e+04  11385.000000  11385.000000   \n",
       "mean          0.776372  2.421531e+06     11.700044   2017.357664   \n",
       "std           1.425432  2.554458e+06      9.879459      1.201998   \n",
       "min           0.000000  0.000000e+00      1.000000   2015.000000   \n",
       "25%           0.000000  6.184000e+05      5.000000   2016.000000   \n",
       "50%           0.000000  1.643700e+06     10.000000   2018.000000   \n",
       "75%           1.000000  3.389412e+06     20.000000   2018.000000   \n",
       "max           9.000000  2.138323e+07     30.000000   2019.000000   \n",
       "\n",
       "              month         score  \n",
       "count  11385.000000  11385.000000  \n",
       "mean       6.091787      0.524260  \n",
       "std        3.361180      0.288521  \n",
       "min        1.000000      0.000000  \n",
       "25%        3.000000      0.251313  \n",
       "50%        7.000000      0.596343  \n",
       "75%        9.000000      0.735318  \n",
       "max       12.000000      1.000000  "
      ]
     },
     "execution_count": 64,
     "metadata": {},
     "output_type": "execute_result"
    }
   ],
   "source": [
    "df.describe()"
   ]
  },
  {
   "cell_type": "code",
   "execution_count": 65,
   "id": "f0f07fce",
   "metadata": {},
   "outputs": [
    {
     "data": {
      "text/plain": [
       "user-id               object\n",
       "user-age               int64\n",
       "user-gender           object\n",
       "user-nationality      object\n",
       "user-knowledge        object\n",
       "user-loyalty          object\n",
       "user-loan             object\n",
       "user-income          float64\n",
       "user-savings         float64\n",
       "user-properties        int64\n",
       "user-riskAversion     object\n",
       "user-marital          object\n",
       "user-dependents        int64\n",
       "user-pension           int64\n",
       "product-type          object\n",
       "product-risk          object\n",
       "product-term           int64\n",
       "product-yield         object\n",
       "transaction-id        object\n",
       "year                   int64\n",
       "month                  int64\n",
       "score                float64\n",
       "dtype: object"
      ]
     },
     "execution_count": 65,
     "metadata": {},
     "output_type": "execute_result"
    }
   ],
   "source": [
    "#checking datatype\n",
    "df.dtypes"
   ]
  },
  {
   "cell_type": "markdown",
   "id": "3a607515",
   "metadata": {},
   "source": [
    "# Exploratory Data Analysis"
   ]
  },
  {
   "cell_type": "code",
   "execution_count": 66,
   "id": "b122f404",
   "metadata": {},
   "outputs": [],
   "source": [
    "#our target is the score column.\n",
    "#we will be doing Univariate and bivariate analysis of each featute column with  the target"
   ]
  },
  {
   "cell_type": "code",
   "execution_count": 67,
   "id": "60a7e361",
   "metadata": {},
   "outputs": [
    {
     "data": {
      "text/plain": [
       "Index(['user-id', 'user-age', 'user-gender', 'user-nationality',\n",
       "       'user-knowledge', 'user-loyalty', 'user-loan', 'user-income',\n",
       "       'user-savings', 'user-properties', 'user-riskAversion', 'user-marital',\n",
       "       'user-dependents', 'user-pension', 'product-type', 'product-risk',\n",
       "       'product-term', 'product-yield', 'transaction-id', 'year', 'month',\n",
       "       'score'],\n",
       "      dtype='object')"
      ]
     },
     "execution_count": 67,
     "metadata": {},
     "output_type": "execute_result"
    }
   ],
   "source": [
    "df.columns"
   ]
  },
  {
   "cell_type": "code",
   "execution_count": 70,
   "id": "b0aeab34",
   "metadata": {},
   "outputs": [
    {
     "data": {
      "text/plain": [
       "['user-age',\n",
       " 'user-income',\n",
       " 'user-savings',\n",
       " 'user-properties',\n",
       " 'user-dependents',\n",
       " 'user-pension',\n",
       " 'product-term',\n",
       " 'year',\n",
       " 'month',\n",
       " 'score']"
      ]
     },
     "execution_count": 70,
     "metadata": {},
     "output_type": "execute_result"
    }
   ],
   "source": [
    "#Separating numerical features .\n",
    "nf=[feature for feature in df.columns if df[feature].dtype!=object] \n",
    "nf"
   ]
  },
  {
   "cell_type": "code",
   "execution_count": 71,
   "id": "6daf17b3",
   "metadata": {},
   "outputs": [
    {
     "data": {
      "text/plain": [
       "array([[<AxesSubplot:title={'center':'user-age'}>,\n",
       "        <AxesSubplot:title={'center':'user-income'}>,\n",
       "        <AxesSubplot:title={'center':'user-savings'}>],\n",
       "       [<AxesSubplot:title={'center':'user-properties'}>,\n",
       "        <AxesSubplot:title={'center':'user-dependents'}>,\n",
       "        <AxesSubplot:title={'center':'user-pension'}>],\n",
       "       [<AxesSubplot:title={'center':'product-term'}>,\n",
       "        <AxesSubplot:title={'center':'year'}>,\n",
       "        <AxesSubplot:title={'center':'month'}>],\n",
       "       [<AxesSubplot:title={'center':'score'}>, <AxesSubplot:>,\n",
       "        <AxesSubplot:>]], dtype=object)"
      ]
     },
     "execution_count": 71,
     "metadata": {},
     "output_type": "execute_result"
    },
    {
     "data": {
      "image/png": "[encoded data removed]",
      "text/plain": [
       "<Figure size 2160x2160 with 12 Axes>"
      ]
     },
     "metadata": {
      "needs_background": "light"
     },
     "output_type": "display_data"
    }
   ],
   "source": [
    "#Analysing numerical columns\n",
    "df[nf].hist(figsize=(30,30))"
   ]
  },
  {
   "cell_type": "code",
   "execution_count": 81,
   "id": "ef7e7bd3",
   "metadata": {},
   "outputs": [
    {
     "data": {
      "text/plain": [
       "['user-gender',\n",
       " 'user-nationality',\n",
       " 'user-knowledge',\n",
       " 'user-loyalty',\n",
       " 'user-loan',\n",
       " 'user-riskAversion',\n",
       " 'user-marital',\n",
       " 'product-type',\n",
       " 'product-risk',\n",
       " 'product-yield']"
      ]
     },
     "execution_count": 81,
     "metadata": {},
     "output_type": "execute_result"
    }
   ],
   "source": [
    "#Separating Categorical Columns\n",
    "cf=[features for features in df1.columns if features not in (nf)]\n",
    "cf"
   ]
  },
  {
   "cell_type": "code",
   "execution_count": 84,
   "id": "b4bf793e",
   "metadata": {},
   "outputs": [
    {
     "data": {
      "image/png": "[encoded data removed]",
      "text/plain": [
       "<Figure size 72x72 with 1 Axes>"
      ]
     },
     "metadata": {
      "needs_background": "light"
     },
     "output_type": "display_data"
    },
    {
     "data": {
      "image/png": "[encoded data removed]",
      "text/plain": [
       "<Figure size 72x72 with 1 Axes>"
      ]
     },
     "metadata": {
      "needs_background": "light"
     },
     "output_type": "display_data"
    },
    {
     "data": {
      "image/png": "[encoded data removed]",
      "text/plain": [
       "<Figure size 72x72 with 1 Axes>"
      ]
     },
     "metadata": {
      "needs_background": "light"
     },
     "output_type": "display_data"
    },
    {
     "data": {
      "image/png": "[encoded data removed]",
      "text/plain": [
       "<Figure size 72x72 with 1 Axes>"
      ]
     },
     "metadata": {
      "needs_background": "light"
     },
     "output_type": "display_data"
    },
    {
     "data": {
      "image/png": "[encoded data removed]",
      "text/plain": [
       "<Figure size 72x72 with 1 Axes>"
      ]
     },
     "metadata": {
      "needs_background": "light"
     },
     "output_type": "display_data"
    },
    {
     "data": {
      "image/png": "[encoded data removed]",
      "text/plain": [
       "<Figure size 72x72 with 1 Axes>"
      ]
     },
     "metadata": {
      "needs_background": "light"
     },
     "output_type": "display_data"
    },
    {
     "data": {
      "image/png": "[encoded data removed]",
      "text/plain": [
       "<Figure size 72x72 with 1 Axes>"
      ]
     },
     "metadata": {
      "needs_background": "light"
     },
     "output_type": "display_data"
    },
    {
     "data": {
      "image/png": "[encoded data removed]",
      "text/plain": [
       "<Figure size 72x72 with 1 Axes>"
      ]
     },
     "metadata": {
      "needs_background": "light"
     },
     "output_type": "display_data"
    },
    {
     "data": {
      "image/png": "[encoded data removed]",
      "text/plain": [
       "<Figure size 72x72 with 1 Axes>"
      ]
     },
     "metadata": {
      "needs_background": "light"
     },
     "output_type": "display_data"
    },
    {
     "data": {
      "image/png": "[encoded data removed]",
      "text/plain": [
       "<Figure size 72x72 with 1 Axes>"
      ]
     },
     "metadata": {
      "needs_background": "light"
     },
     "output_type": "display_data"
    }
   ],
   "source": [
    "#Analysing Categorical columns\n",
    "for feature in cf:\n",
    "    plt.figure(figsize=(1,1))\n",
    "    ax = sns.countplot(x=feature, data=df)\n",
    "    plt.xticks(rotation=90)\n",
    "    plt.show()"
   ]
  },
  {
   "cell_type": "code",
   "execution_count": null,
   "id": "28a32158",
   "metadata": {},
   "outputs": [],
   "source": [
    "Inference\n",
    "1.Male customers dominate\n",
    "2.Majority of Customers are local people\n",
    "3.most of the customers are having less knowledge about the product\n",
    "4.Married people purchase more products\n",
    "5.Risk is high\n",
    "6.Product yeild is very high\n"
   ]
  },
  {
   "cell_type": "markdown",
   "id": "ee797907",
   "metadata": {},
   "source": [
    "2.Bivariate Analysis"
   ]
  },
  {
   "cell_type": "code",
   "execution_count": 123,
   "id": "65e24fa4",
   "metadata": {},
   "outputs": [
    {
     "data": {
      "image/png": "[encoded data removed]",
      "text/plain": [
       "<Figure size 72x72 with 1 Axes>"
      ]
     },
     "metadata": {
      "needs_background": "light"
     },
     "output_type": "display_data"
    },
    {
     "data": {
      "image/png": "[encoded data removed]",
      "text/plain": [
       "<Figure size 72x72 with 1 Axes>"
      ]
     },
     "metadata": {
      "needs_background": "light"
     },
     "output_type": "display_data"
    },
    {
     "data": {
      "image/png": "[encoded data removed]",
      "text/plain": [
       "<Figure size 72x72 with 1 Axes>"
      ]
     },
     "metadata": {
      "needs_background": "light"
     },
     "output_type": "display_data"
    },
    {
     "data": {
      "image/png": "[encoded data removed]",
      "text/plain": [
       "<Figure size 72x72 with 1 Axes>"
      ]
     },
     "metadata": {
      "needs_background": "light"
     },
     "output_type": "display_data"
    },
    {
     "data": {
      "image/png": "[encoded data removed]",
      "text/plain": [
       "<Figure size 72x72 with 1 Axes>"
      ]
     },
     "metadata": {
      "needs_background": "light"
     },
     "output_type": "display_data"
    },
    {
     "data": {
      "image/png": "[encoded data removed]",
      "text/plain": [
       "<Figure size 72x72 with 1 Axes>"
      ]
     },
     "metadata": {
      "needs_background": "light"
     },
     "output_type": "display_data"
    },
    {
     "data": {
      "image/png": "[encoded data removed]",
      "text/plain": [
       "<Figure size 72x72 with 1 Axes>"
      ]
     },
     "metadata": {
      "needs_background": "light"
     },
     "output_type": "display_data"
    },
    {
     "data": {
      "image/png": "[encoded data removed]",
      "text/plain": [
       "<Figure size 72x72 with 1 Axes>"
      ]
     },
     "metadata": {
      "needs_background": "light"
     },
     "output_type": "display_data"
    },
    {
     "data": {
      "image/png": "[encoded data removed]",
      "text/plain": [
       "<Figure size 72x72 with 1 Axes>"
      ]
     },
     "metadata": {
      "needs_background": "light"
     },
     "output_type": "display_data"
    },
    {
     "data": {
      "image/png": "[encoded data removed]",
      "text/plain": [
       "<Figure size 72x72 with 1 Axes>"
      ]
     },
     "metadata": {
      "needs_background": "light"
     },
     "output_type": "display_data"
    }
   ],
   "source": [
    "for feature in cf:\n",
    "    if(feature not in ['user-id','transaction-id','user-age','score','user-pension','user-savings','user-income']):\n",
    "        plt.figure(figsize=(1,1))\n",
    "        sns.barplot(x=feature,y='score',data=df)\n",
    "        plt.grid()\n",
    "        plt.xticks(rotation=45)\n",
    "        plt.show()"
   ]
  },
  {
   "cell_type": "markdown",
   "id": "3b0d4d99",
   "metadata": {},
   "source": [
    "# Preprocessing"
   ]
  },
  {
   "cell_type": "markdown",
   "id": "e08d0ecf",
   "metadata": {},
   "source": [
    "1.Missing value handling"
   ]
  },
  {
   "cell_type": "code",
   "execution_count": 8,
   "id": "257efbe3",
   "metadata": {},
   "outputs": [
    {
     "data": {
      "text/html": [
       "<div>\n",
       "<style scoped>\n",
       "    .dataframe tbody tr th:only-of-type {\n",
       "        vertical-align: middle;\n",
       "    }\n",
       "\n",
       "    .dataframe tbody tr th {\n",
       "        vertical-align: top;\n",
       "    }\n",
       "\n",
       "    .dataframe thead th {\n",
       "        text-align: right;\n",
       "    }\n",
       "</style>\n",
       "<table border=\"1\" class=\"dataframe\">\n",
       "  <thead>\n",
       "    <tr style=\"text-align: right;\">\n",
       "      <th></th>\n",
       "      <th>0</th>\n",
       "    </tr>\n",
       "  </thead>\n",
       "  <tbody>\n",
       "    <tr>\n",
       "      <th>user-id</th>\n",
       "      <td>0</td>\n",
       "    </tr>\n",
       "    <tr>\n",
       "      <th>user-age</th>\n",
       "      <td>0</td>\n",
       "    </tr>\n",
       "    <tr>\n",
       "      <th>user-gender</th>\n",
       "      <td>0</td>\n",
       "    </tr>\n",
       "    <tr>\n",
       "      <th>user-nationality</th>\n",
       "      <td>0</td>\n",
       "    </tr>\n",
       "    <tr>\n",
       "      <th>user-knowledge</th>\n",
       "      <td>0</td>\n",
       "    </tr>\n",
       "    <tr>\n",
       "      <th>user-loyalty</th>\n",
       "      <td>0</td>\n",
       "    </tr>\n",
       "    <tr>\n",
       "      <th>user-loan</th>\n",
       "      <td>0</td>\n",
       "    </tr>\n",
       "    <tr>\n",
       "      <th>user-income</th>\n",
       "      <td>12</td>\n",
       "    </tr>\n",
       "    <tr>\n",
       "      <th>user-savings</th>\n",
       "      <td>5</td>\n",
       "    </tr>\n",
       "    <tr>\n",
       "      <th>user-properties</th>\n",
       "      <td>0</td>\n",
       "    </tr>\n",
       "    <tr>\n",
       "      <th>user-riskAversion</th>\n",
       "      <td>0</td>\n",
       "    </tr>\n",
       "    <tr>\n",
       "      <th>user-marital</th>\n",
       "      <td>0</td>\n",
       "    </tr>\n",
       "    <tr>\n",
       "      <th>user-dependents</th>\n",
       "      <td>0</td>\n",
       "    </tr>\n",
       "    <tr>\n",
       "      <th>user-pension</th>\n",
       "      <td>0</td>\n",
       "    </tr>\n",
       "    <tr>\n",
       "      <th>product-type</th>\n",
       "      <td>0</td>\n",
       "    </tr>\n",
       "    <tr>\n",
       "      <th>product-risk</th>\n",
       "      <td>0</td>\n",
       "    </tr>\n",
       "    <tr>\n",
       "      <th>product-term</th>\n",
       "      <td>0</td>\n",
       "    </tr>\n",
       "    <tr>\n",
       "      <th>product-yield</th>\n",
       "      <td>0</td>\n",
       "    </tr>\n",
       "    <tr>\n",
       "      <th>transaction-id</th>\n",
       "      <td>0</td>\n",
       "    </tr>\n",
       "    <tr>\n",
       "      <th>year</th>\n",
       "      <td>0</td>\n",
       "    </tr>\n",
       "    <tr>\n",
       "      <th>month</th>\n",
       "      <td>0</td>\n",
       "    </tr>\n",
       "    <tr>\n",
       "      <th>score</th>\n",
       "      <td>0</td>\n",
       "    </tr>\n",
       "  </tbody>\n",
       "</table>\n",
       "</div>"
      ],
      "text/plain": [
       "                    0\n",
       "user-id             0\n",
       "user-age            0\n",
       "user-gender         0\n",
       "user-nationality    0\n",
       "user-knowledge      0\n",
       "user-loyalty        0\n",
       "user-loan           0\n",
       "user-income        12\n",
       "user-savings        5\n",
       "user-properties     0\n",
       "user-riskAversion   0\n",
       "user-marital        0\n",
       "user-dependents     0\n",
       "user-pension        0\n",
       "product-type        0\n",
       "product-risk        0\n",
       "product-term        0\n",
       "product-yield       0\n",
       "transaction-id      0\n",
       "year                0\n",
       "month               0\n",
       "score               0"
      ]
     },
     "execution_count": 8,
     "metadata": {},
     "output_type": "execute_result"
    }
   ],
   "source": [
    "#checking for missing values\n",
    "df.isna().sum().to_frame()\n"
   ]
  },
  {
   "cell_type": "markdown",
   "id": "8078bb89",
   "metadata": {},
   "source": [
    "two columns having missing values.both are numerical values.Here we are using median and forwardfill methods to handle missing values"
   ]
  },
  {
   "cell_type": "code",
   "execution_count": 9,
   "id": "7357ab6b",
   "metadata": {},
   "outputs": [],
   "source": [
    "#Handling Missing Values\n",
    "df['user-income']=df['user-income'].fillna(df['user-income']).median()\n",
    "df['user-savings'].ffill(inplace=True)"
   ]
  },
  {
   "cell_type": "code",
   "execution_count": 10,
   "id": "3b2fa121",
   "metadata": {},
   "outputs": [
    {
     "data": {
      "text/html": [
       "<div>\n",
       "<style scoped>\n",
       "    .dataframe tbody tr th:only-of-type {\n",
       "        vertical-align: middle;\n",
       "    }\n",
       "\n",
       "    .dataframe tbody tr th {\n",
       "        vertical-align: top;\n",
       "    }\n",
       "\n",
       "    .dataframe thead th {\n",
       "        text-align: right;\n",
       "    }\n",
       "</style>\n",
       "<table border=\"1\" class=\"dataframe\">\n",
       "  <thead>\n",
       "    <tr style=\"text-align: right;\">\n",
       "      <th></th>\n",
       "      <th>0</th>\n",
       "    </tr>\n",
       "  </thead>\n",
       "  <tbody>\n",
       "    <tr>\n",
       "      <th>user-id</th>\n",
       "      <td>0</td>\n",
       "    </tr>\n",
       "    <tr>\n",
       "      <th>user-age</th>\n",
       "      <td>0</td>\n",
       "    </tr>\n",
       "    <tr>\n",
       "      <th>user-gender</th>\n",
       "      <td>0</td>\n",
       "    </tr>\n",
       "    <tr>\n",
       "      <th>user-nationality</th>\n",
       "      <td>0</td>\n",
       "    </tr>\n",
       "    <tr>\n",
       "      <th>user-knowledge</th>\n",
       "      <td>0</td>\n",
       "    </tr>\n",
       "    <tr>\n",
       "      <th>user-loyalty</th>\n",
       "      <td>0</td>\n",
       "    </tr>\n",
       "    <tr>\n",
       "      <th>user-loan</th>\n",
       "      <td>0</td>\n",
       "    </tr>\n",
       "    <tr>\n",
       "      <th>user-income</th>\n",
       "      <td>0</td>\n",
       "    </tr>\n",
       "    <tr>\n",
       "      <th>user-savings</th>\n",
       "      <td>0</td>\n",
       "    </tr>\n",
       "    <tr>\n",
       "      <th>user-properties</th>\n",
       "      <td>0</td>\n",
       "    </tr>\n",
       "    <tr>\n",
       "      <th>user-riskAversion</th>\n",
       "      <td>0</td>\n",
       "    </tr>\n",
       "    <tr>\n",
       "      <th>user-marital</th>\n",
       "      <td>0</td>\n",
       "    </tr>\n",
       "    <tr>\n",
       "      <th>user-dependents</th>\n",
       "      <td>0</td>\n",
       "    </tr>\n",
       "    <tr>\n",
       "      <th>user-pension</th>\n",
       "      <td>0</td>\n",
       "    </tr>\n",
       "    <tr>\n",
       "      <th>product-type</th>\n",
       "      <td>0</td>\n",
       "    </tr>\n",
       "    <tr>\n",
       "      <th>product-risk</th>\n",
       "      <td>0</td>\n",
       "    </tr>\n",
       "    <tr>\n",
       "      <th>product-term</th>\n",
       "      <td>0</td>\n",
       "    </tr>\n",
       "    <tr>\n",
       "      <th>product-yield</th>\n",
       "      <td>0</td>\n",
       "    </tr>\n",
       "    <tr>\n",
       "      <th>transaction-id</th>\n",
       "      <td>0</td>\n",
       "    </tr>\n",
       "    <tr>\n",
       "      <th>year</th>\n",
       "      <td>0</td>\n",
       "    </tr>\n",
       "    <tr>\n",
       "      <th>month</th>\n",
       "      <td>0</td>\n",
       "    </tr>\n",
       "    <tr>\n",
       "      <th>score</th>\n",
       "      <td>0</td>\n",
       "    </tr>\n",
       "  </tbody>\n",
       "</table>\n",
       "</div>"
      ],
      "text/plain": [
       "                   0\n",
       "user-id            0\n",
       "user-age           0\n",
       "user-gender        0\n",
       "user-nationality   0\n",
       "user-knowledge     0\n",
       "user-loyalty       0\n",
       "user-loan          0\n",
       "user-income        0\n",
       "user-savings       0\n",
       "user-properties    0\n",
       "user-riskAversion  0\n",
       "user-marital       0\n",
       "user-dependents    0\n",
       "user-pension       0\n",
       "product-type       0\n",
       "product-risk       0\n",
       "product-term       0\n",
       "product-yield      0\n",
       "transaction-id     0\n",
       "year               0\n",
       "month              0\n",
       "score              0"
      ]
     },
     "execution_count": 10,
     "metadata": {},
     "output_type": "execute_result"
    }
   ],
   "source": [
    "df.isna().sum().to_frame()"
   ]
  },
  {
   "cell_type": "markdown",
   "id": "d43d47c4",
   "metadata": {},
   "source": [
    "The dataset is free from missing values"
   ]
  },
  {
   "cell_type": "markdown",
   "id": "c6320e58",
   "metadata": {},
   "source": [
    "2. Outlier Detection and Handling"
   ]
  },
  {
   "cell_type": "code",
   "execution_count": 11,
   "id": "68120873",
   "metadata": {},
   "outputs": [
    {
     "data": {
      "text/plain": [
       "Text(0.5, 1.0, 'Box plot of Product relevance dataset')"
      ]
     },
     "execution_count": 11,
     "metadata": {},
     "output_type": "execute_result"
    },
    {
     "data": {
      "image/png": "[encoded data removed]",
      "text/plain": [
       "<Figure size 720x720 with 1 Axes>"
      ]
     },
     "metadata": {
      "needs_background": "light"
     },
     "output_type": "display_data"
    }
   ],
   "source": [
    "#checking outliers\n",
    "plt.figure(figsize=(10,10))\n",
    "sns.boxplot(data=df)\n",
    "plt.xticks(rotation=90)\n",
    "plt.title('Box plot of Product relevance dataset')"
   ]
  },
  {
   "cell_type": "code",
   "execution_count": 12,
   "id": "99d257f4",
   "metadata": {},
   "outputs": [
    {
     "data": {
      "image/png": "[encoded data removed]",
      "text/plain": [
       "<Figure size 432x288 with 1 Axes>"
      ]
     },
     "metadata": {
      "needs_background": "light"
     },
     "output_type": "display_data"
    }
   ],
   "source": [
    "plt.boxplot(df[['user-age','user-income','user-pension','year','month','score']])\n",
    "plt.xticks(rotation=90)\n",
    "plt.show()"
   ]
  },
  {
   "cell_type": "code",
   "execution_count": 13,
   "id": "8cd66b07",
   "metadata": {},
   "outputs": [
    {
     "data": {
      "image/png": "[encoded data removed]",
      "text/plain": [
       "<Figure size 432x288 with 1 Axes>"
      ]
     },
     "metadata": {
      "needs_background": "light"
     },
     "output_type": "display_data"
    }
   ],
   "source": [
    "\n",
    "plt.boxplot(df[['user-age']])\n",
    "plt.show()"
   ]
  },
  {
   "cell_type": "code",
   "execution_count": 14,
   "id": "d64a04be",
   "metadata": {},
   "outputs": [
    {
     "data": {
      "image/png": "[encoded data removed]",
      "text/plain": [
       "<Figure size 432x288 with 1 Axes>"
      ]
     },
     "metadata": {
      "needs_background": "light"
     },
     "output_type": "display_data"
    }
   ],
   "source": [
    "plt.boxplot(df[['user-savings']])\n",
    "plt.show()\n"
   ]
  },
  {
   "cell_type": "code",
   "execution_count": 15,
   "id": "80a4aba6",
   "metadata": {},
   "outputs": [
    {
     "data": {
      "image/png": "[encoded data removed]",
      "text/plain": [
       "<Figure size 432x288 with 1 Axes>"
      ]
     },
     "metadata": {
      "needs_background": "light"
     },
     "output_type": "display_data"
    }
   ],
   "source": [
    "plt.boxplot(df[['user-pension']])\n",
    "plt.show()"
   ]
  },
  {
   "cell_type": "markdown",
   "id": "ff16e546",
   "metadata": {},
   "source": [
    "In this dataset 3 columns (user-age,user-savings,user-pension) are having outliers.Outliers in user-age column can be negleced.We have to remove Outliers from user-pension and user-savings"
   ]
  },
  {
   "cell_type": "code",
   "execution_count": 16,
   "id": "82a52e3f",
   "metadata": {},
   "outputs": [
    {
     "name": "stdout",
     "output_type": "stream",
     "text": [
      "Q1: 618400.0\n",
      "Q2: 1643700.0\n",
      "Q3: 3389412.0\n"
     ]
    }
   ],
   "source": [
    "#Finding Quartiles of user-pension\n",
    "q1=np.percentile(df['user-pension'],25,interpolation='midpoint')\n",
    "q2=np.percentile(df['user-pension'],50,interpolation='midpoint')\n",
    "q3=np.percentile(df['user-pension'],75,interpolation='midpoint')\n",
    "print('Q1:',q1)\n",
    "print('Q2:',q2)\n",
    "print('Q3:',q3)"
   ]
  },
  {
   "cell_type": "code",
   "execution_count": 17,
   "id": "f3fa29a6",
   "metadata": {},
   "outputs": [
    {
     "name": "stdout",
     "output_type": "stream",
     "text": [
      "IQR: 2771012.0\n",
      "lower limit: -3538118.0\n",
      "upper limit: 7545930.0\n"
     ]
    }
   ],
   "source": [
    "#Finding Inter Qurtile Range\n",
    "IQR=q3-q1\n",
    "print('IQR:',IQR)\n",
    "low_lim=q1-1.5*IQR\n",
    "up_lim=q3+1.5*IQR\n",
    "print('lower limit:',low_lim)\n",
    "print('upper limit:',up_lim)"
   ]
  },
  {
   "cell_type": "code",
   "execution_count": 18,
   "id": "8dfd1b2b",
   "metadata": {},
   "outputs": [
    {
     "data": {
      "text/plain": [
       "Int64Index([   22,    23,   164,   165,   232,   314,   344,   345,   493,\n",
       "              494,\n",
       "            ...\n",
       "            11166, 11167, 11168, 11180, 11181, 11182, 11183, 11251, 11252,\n",
       "            11253],\n",
       "           dtype='int64', length=510)"
      ]
     },
     "execution_count": 18,
     "metadata": {},
     "output_type": "execute_result"
    }
   ],
   "source": [
    "outlier=[]\n",
    "for x in df['user-pension']:\n",
    "    if x>up_lim or x<low_lim:\n",
    "        outlier.append(x)\n",
    "ind=df['user-pension']  > up_lim\n",
    "df.loc[ind].index"
   ]
  },
  {
   "cell_type": "code",
   "execution_count": 19,
   "id": "6e438ca9",
   "metadata": {},
   "outputs": [
    {
     "data": {
      "text/plain": [
       "(10875, 22)"
      ]
     },
     "execution_count": 19,
     "metadata": {},
     "output_type": "execute_result"
    }
   ],
   "source": [
    "df.drop(df[(df['user-pension']  > up_lim)].index,inplace=True)\n",
    "df.shape"
   ]
  },
  {
   "cell_type": "code",
   "execution_count": 20,
   "id": "119196cc",
   "metadata": {},
   "outputs": [
    {
     "data": {
      "text/plain": [
       "{'whiskers': [<matplotlib.lines.Line2D at 0xebb5a7afa0>,\n",
       "  <matplotlib.lines.Line2D at 0xebb5a87370>],\n",
       " 'caps': [<matplotlib.lines.Line2D at 0xebb5a87700>,\n",
       "  <matplotlib.lines.Line2D at 0xebb5a87a90>],\n",
       " 'boxes': [<matplotlib.lines.Line2D at 0xebb5a7ac10>],\n",
       " 'medians': [<matplotlib.lines.Line2D at 0xebb5a87e20>],\n",
       " 'fliers': [<matplotlib.lines.Line2D at 0xebb5a941f0>],\n",
       " 'means': []}"
      ]
     },
     "execution_count": 20,
     "metadata": {},
     "output_type": "execute_result"
    },
    {
     "data": {
      "image/png": "[encoded data removed]",
      "text/plain": [
       "<Figure size 432x288 with 1 Axes>"
      ]
     },
     "metadata": {
      "needs_background": "light"
     },
     "output_type": "display_data"
    }
   ],
   "source": [
    "plt.boxplot(df['user-pension'])"
   ]
  },
  {
   "cell_type": "code",
   "execution_count": 21,
   "id": "dc6aa87f",
   "metadata": {},
   "outputs": [
    {
     "name": "stdout",
     "output_type": "stream",
     "text": [
      "Q1: 65226.5\n",
      "Q2: 96065.0\n",
      "Q3: 130829.5\n"
     ]
    }
   ],
   "source": [
    "#Finding Quartiles of user-savings\n",
    "q1=np.percentile(df['user-savings'],25,interpolation='midpoint')\n",
    "q2=np.percentile(df['user-savings'],50,interpolation='midpoint')\n",
    "q3=np.percentile(df['user-savings'],75,interpolation='midpoint')\n",
    "print('Q1:',q1)\n",
    "print('Q2:',q2)\n",
    "print('Q3:',q3)"
   ]
  },
  {
   "cell_type": "code",
   "execution_count": 22,
   "id": "53971b14",
   "metadata": {},
   "outputs": [
    {
     "name": "stdout",
     "output_type": "stream",
     "text": [
      "IQR: 65603.0\n",
      "lower limit: -33178.0\n",
      "upper limit: 229234.0\n"
     ]
    }
   ],
   "source": [
    "#Finding Inter Qurtile Range\n",
    "IQR=q3-q1\n",
    "print('IQR:',IQR)\n",
    "low_lim=q1-1.5*IQR\n",
    "up_lim=q3+1.5*IQR\n",
    "print('lower limit:',low_lim)\n",
    "print('upper limit:',up_lim)"
   ]
  },
  {
   "cell_type": "code",
   "execution_count": 23,
   "id": "8f4c817f",
   "metadata": {},
   "outputs": [
    {
     "data": {
      "text/plain": [
       "Int64Index([  161,   162,   163,   346,   347,   635,   636,   641,   642,\n",
       "              756,\n",
       "            ...\n",
       "            11160, 11161, 11162, 11163, 11164, 11307, 11308, 11309, 11310,\n",
       "            11311],\n",
       "           dtype='int64', length=149)"
      ]
     },
     "execution_count": 23,
     "metadata": {},
     "output_type": "execute_result"
    }
   ],
   "source": [
    "outlier=[]\n",
    "for x in df['user-savings']:\n",
    "    if x>up_lim or x<low_lim:\n",
    "        outlier.append(x)\n",
    "ind=df['user-savings']  > up_lim\n",
    "df.loc[ind].index"
   ]
  },
  {
   "cell_type": "code",
   "execution_count": 24,
   "id": "e2f05db4",
   "metadata": {},
   "outputs": [
    {
     "data": {
      "text/plain": [
       "(10726, 22)"
      ]
     },
     "execution_count": 24,
     "metadata": {},
     "output_type": "execute_result"
    }
   ],
   "source": [
    "df.drop(df[(df['user-savings']  > up_lim)].index,inplace=True)\n",
    "df.shape"
   ]
  },
  {
   "cell_type": "code",
   "execution_count": 25,
   "id": "e315055a",
   "metadata": {},
   "outputs": [
    {
     "data": {
      "text/plain": [
       "{'whiskers': [<matplotlib.lines.Line2D at 0xebb5af2070>,\n",
       "  <matplotlib.lines.Line2D at 0xebb5af2400>],\n",
       " 'caps': [<matplotlib.lines.Line2D at 0xebb5af2790>,\n",
       "  <matplotlib.lines.Line2D at 0xebb5af2b20>],\n",
       " 'boxes': [<matplotlib.lines.Line2D at 0xebb5ae2ca0>],\n",
       " 'medians': [<matplotlib.lines.Line2D at 0xebb5af2eb0>],\n",
       " 'fliers': [<matplotlib.lines.Line2D at 0xebb5aff280>],\n",
       " 'means': []}"
      ]
     },
     "execution_count": 25,
     "metadata": {},
     "output_type": "execute_result"
    },
    {
     "data": {
      "image/png": "[encoded data removed]",
      "text/plain": [
       "<Figure size 432x288 with 1 Axes>"
      ]
     },
     "metadata": {
      "needs_background": "light"
     },
     "output_type": "display_data"
    }
   ],
   "source": [
    "plt.boxplot(df['user-savings'])"
   ]
  },
  {
   "cell_type": "markdown",
   "id": "657ad5e6",
   "metadata": {},
   "source": [
    "Outliers in user pension column and user savings columns are removed"
   ]
  },
  {
   "cell_type": "markdown",
   "id": "88ac7ef7",
   "metadata": {},
   "source": [
    "3.Encoding"
   ]
  },
  {
   "cell_type": "code",
   "execution_count": 26,
   "id": "db6a86a0",
   "metadata": {},
   "outputs": [
    {
     "data": {
      "text/plain": [
       "Index(['user-id', 'user-age', 'user-gender', 'user-nationality',\n",
       "       'user-knowledge', 'user-loyalty', 'user-loan', 'user-income',\n",
       "       'user-savings', 'user-properties', 'user-riskAversion', 'user-marital',\n",
       "       'user-dependents', 'user-pension', 'product-type', 'product-risk',\n",
       "       'product-term', 'product-yield', 'transaction-id', 'year', 'month',\n",
       "       'score'],\n",
       "      dtype='object')"
      ]
     },
     "execution_count": 26,
     "metadata": {},
     "output_type": "execute_result"
    }
   ],
   "source": [
    "df.columns\n"
   ]
  },
  {
   "cell_type": "code",
   "execution_count": 27,
   "id": "5ce59e57",
   "metadata": {},
   "outputs": [],
   "source": [
    "df=df.drop(['transaction-id','user-id','year','month'],axis=1)"
   ]
  },
  {
   "cell_type": "code",
   "execution_count": 28,
   "id": "4aa370c3",
   "metadata": {},
   "outputs": [
    {
     "data": {
      "text/plain": [
       "user-gender          2\n",
       "user-nationality     2\n",
       "user-knowledge       3\n",
       "user-loyalty         3\n",
       "user-loan            2\n",
       "user-riskAversion    2\n",
       "user-marital         3\n",
       "product-type         3\n",
       "product-risk         3\n",
       "product-yield        3\n",
       "dtype: int64"
      ]
     },
     "execution_count": 28,
     "metadata": {},
     "output_type": "execute_result"
    }
   ],
   "source": [
    "df[df.select_dtypes(include=['object']).columns.tolist()].nunique()"
   ]
  },
  {
   "cell_type": "code",
   "execution_count": 29,
   "id": "a4325838",
   "metadata": {},
   "outputs": [],
   "source": [
    "#In this dataset we are using onehot encoding because all columns are having 2 or 3 unique values"
   ]
  },
  {
   "cell_type": "code",
   "execution_count": 30,
   "id": "40eae1eb",
   "metadata": {},
   "outputs": [],
   "source": [
    "df1=df\n",
    "df=pd.get_dummies(df)"
   ]
  },
  {
   "cell_type": "code",
   "execution_count": 31,
   "id": "ff377f80",
   "metadata": {},
   "outputs": [
    {
     "data": {
      "text/html": [
       "<div>\n",
       "<style scoped>\n",
       "    .dataframe tbody tr th:only-of-type {\n",
       "        vertical-align: middle;\n",
       "    }\n",
       "\n",
       "    .dataframe tbody tr th {\n",
       "        vertical-align: top;\n",
       "    }\n",
       "\n",
       "    .dataframe thead th {\n",
       "        text-align: right;\n",
       "    }\n",
       "</style>\n",
       "<table border=\"1\" class=\"dataframe\">\n",
       "  <thead>\n",
       "    <tr style=\"text-align: right;\">\n",
       "      <th></th>\n",
       "      <th>user-age</th>\n",
       "      <th>user-income</th>\n",
       "      <th>user-savings</th>\n",
       "      <th>user-properties</th>\n",
       "      <th>user-dependents</th>\n",
       "      <th>user-pension</th>\n",
       "      <th>product-term</th>\n",
       "      <th>score</th>\n",
       "      <th>user-gender_female</th>\n",
       "      <th>user-gender_male</th>\n",
       "      <th>...</th>\n",
       "      <th>user-marital_single</th>\n",
       "      <th>product-type_bond</th>\n",
       "      <th>product-type_etf</th>\n",
       "      <th>product-type_stock</th>\n",
       "      <th>product-risk_high</th>\n",
       "      <th>product-risk_low</th>\n",
       "      <th>product-risk_medium</th>\n",
       "      <th>product-yield_high</th>\n",
       "      <th>product-yield_low</th>\n",
       "      <th>product-yield_medium</th>\n",
       "    </tr>\n",
       "  </thead>\n",
       "  <tbody>\n",
       "    <tr>\n",
       "      <th>0</th>\n",
       "      <td>41</td>\n",
       "      <td>10402.0</td>\n",
       "      <td>132392.0</td>\n",
       "      <td>0</td>\n",
       "      <td>0</td>\n",
       "      <td>483040</td>\n",
       "      <td>30</td>\n",
       "      <td>0.061877</td>\n",
       "      <td>1</td>\n",
       "      <td>0</td>\n",
       "      <td>...</td>\n",
       "      <td>0</td>\n",
       "      <td>1</td>\n",
       "      <td>0</td>\n",
       "      <td>0</td>\n",
       "      <td>0</td>\n",
       "      <td>0</td>\n",
       "      <td>1</td>\n",
       "      <td>0</td>\n",
       "      <td>0</td>\n",
       "      <td>1</td>\n",
       "    </tr>\n",
       "    <tr>\n",
       "      <th>1</th>\n",
       "      <td>41</td>\n",
       "      <td>10402.0</td>\n",
       "      <td>132392.0</td>\n",
       "      <td>0</td>\n",
       "      <td>0</td>\n",
       "      <td>483040</td>\n",
       "      <td>10</td>\n",
       "      <td>0.179746</td>\n",
       "      <td>1</td>\n",
       "      <td>0</td>\n",
       "      <td>...</td>\n",
       "      <td>0</td>\n",
       "      <td>0</td>\n",
       "      <td>0</td>\n",
       "      <td>1</td>\n",
       "      <td>1</td>\n",
       "      <td>0</td>\n",
       "      <td>0</td>\n",
       "      <td>1</td>\n",
       "      <td>0</td>\n",
       "      <td>0</td>\n",
       "    </tr>\n",
       "    <tr>\n",
       "      <th>2</th>\n",
       "      <td>41</td>\n",
       "      <td>10402.0</td>\n",
       "      <td>132392.0</td>\n",
       "      <td>0</td>\n",
       "      <td>0</td>\n",
       "      <td>483040</td>\n",
       "      <td>10</td>\n",
       "      <td>0.767918</td>\n",
       "      <td>1</td>\n",
       "      <td>0</td>\n",
       "      <td>...</td>\n",
       "      <td>0</td>\n",
       "      <td>0</td>\n",
       "      <td>1</td>\n",
       "      <td>0</td>\n",
       "      <td>1</td>\n",
       "      <td>0</td>\n",
       "      <td>0</td>\n",
       "      <td>1</td>\n",
       "      <td>0</td>\n",
       "      <td>0</td>\n",
       "    </tr>\n",
       "    <tr>\n",
       "      <th>3</th>\n",
       "      <td>41</td>\n",
       "      <td>10402.0</td>\n",
       "      <td>132392.0</td>\n",
       "      <td>0</td>\n",
       "      <td>0</td>\n",
       "      <td>483040</td>\n",
       "      <td>20</td>\n",
       "      <td>0.606241</td>\n",
       "      <td>1</td>\n",
       "      <td>0</td>\n",
       "      <td>...</td>\n",
       "      <td>0</td>\n",
       "      <td>0</td>\n",
       "      <td>1</td>\n",
       "      <td>0</td>\n",
       "      <td>0</td>\n",
       "      <td>1</td>\n",
       "      <td>0</td>\n",
       "      <td>0</td>\n",
       "      <td>1</td>\n",
       "      <td>0</td>\n",
       "    </tr>\n",
       "    <tr>\n",
       "      <th>4</th>\n",
       "      <td>25</td>\n",
       "      <td>10402.0</td>\n",
       "      <td>51806.0</td>\n",
       "      <td>0</td>\n",
       "      <td>5</td>\n",
       "      <td>113300</td>\n",
       "      <td>1</td>\n",
       "      <td>0.829035</td>\n",
       "      <td>0</td>\n",
       "      <td>1</td>\n",
       "      <td>...</td>\n",
       "      <td>1</td>\n",
       "      <td>0</td>\n",
       "      <td>1</td>\n",
       "      <td>0</td>\n",
       "      <td>0</td>\n",
       "      <td>1</td>\n",
       "      <td>0</td>\n",
       "      <td>0</td>\n",
       "      <td>1</td>\n",
       "      <td>0</td>\n",
       "    </tr>\n",
       "  </tbody>\n",
       "</table>\n",
       "<p>5 rows × 34 columns</p>\n",
       "</div>"
      ],
      "text/plain": [
       "   user-age  user-income  user-savings  user-properties  user-dependents  \\\n",
       "0        41      10402.0      132392.0                0                0   \n",
       "1        41      10402.0      132392.0                0                0   \n",
       "2        41      10402.0      132392.0                0                0   \n",
       "3        41      10402.0      132392.0                0                0   \n",
       "4        25      10402.0       51806.0                0                5   \n",
       "\n",
       "   user-pension  product-term     score  user-gender_female  user-gender_male  \\\n",
       "0        483040            30  0.061877                   1                 0   \n",
       "1        483040            10  0.179746                   1                 0   \n",
       "2        483040            10  0.767918                   1                 0   \n",
       "3        483040            20  0.606241                   1                 0   \n",
       "4        113300             1  0.829035                   0                 1   \n",
       "\n",
       "   ...  user-marital_single  product-type_bond  product-type_etf  \\\n",
       "0  ...                    0                  1                 0   \n",
       "1  ...                    0                  0                 0   \n",
       "2  ...                    0                  0                 1   \n",
       "3  ...                    0                  0                 1   \n",
       "4  ...                    1                  0                 1   \n",
       "\n",
       "   product-type_stock  product-risk_high  product-risk_low  \\\n",
       "0                   0                  0                 0   \n",
       "1                   1                  1                 0   \n",
       "2                   0                  1                 0   \n",
       "3                   0                  0                 1   \n",
       "4                   0                  0                 1   \n",
       "\n",
       "   product-risk_medium  product-yield_high  product-yield_low  \\\n",
       "0                    1                   0                  0   \n",
       "1                    0                   1                  0   \n",
       "2                    0                   1                  0   \n",
       "3                    0                   0                  1   \n",
       "4                    0                   0                  1   \n",
       "\n",
       "   product-yield_medium  \n",
       "0                     1  \n",
       "1                     0  \n",
       "2                     0  \n",
       "3                     0  \n",
       "4                     0  \n",
       "\n",
       "[5 rows x 34 columns]"
      ]
     },
     "execution_count": 31,
     "metadata": {},
     "output_type": "execute_result"
    }
   ],
   "source": [
    "df.head()"
   ]
  },
  {
   "cell_type": "code",
   "execution_count": 32,
   "id": "5abd985d",
   "metadata": {},
   "outputs": [
    {
     "data": {
      "text/plain": [
       "(10726, 34)"
      ]
     },
     "execution_count": 32,
     "metadata": {},
     "output_type": "execute_result"
    }
   ],
   "source": [
    "df.shape"
   ]
  },
  {
   "cell_type": "markdown",
   "id": "abb4d3e8",
   "metadata": {},
   "source": [
    "4.Feature Reduction"
   ]
  },
  {
   "cell_type": "code",
   "execution_count": null,
   "id": "22c9fc53",
   "metadata": {},
   "outputs": [],
   "source": []
  },
  {
   "cell_type": "code",
   "execution_count": 33,
   "id": "f1aee763",
   "metadata": {},
   "outputs": [
    {
     "data": {
      "image/png": "[encoded data removed]",
      "text/plain": [
       "<Figure size 720x720 with 2 Axes>"
      ]
     },
     "metadata": {
      "needs_background": "light"
     },
     "output_type": "display_data"
    }
   ],
   "source": [
    "plt.figure(figsize=(10,10))\n",
    "sns.heatmap(df1.corr(),annot=True,linewidths=0.1,cmap=\"YlGnBu\")\n",
    "plt.show()"
   ]
  },
  {
   "cell_type": "code",
   "execution_count": 34,
   "id": "b4391571",
   "metadata": {},
   "outputs": [],
   "source": [
    "# user-savings and user-dependents are negatively correlated.so we can drop user dependents.\n",
    "# user pension and user age are positively coerrelated. so we can drop user pension.\n"
   ]
  },
  {
   "cell_type": "code",
   "execution_count": 35,
   "id": "1ea092fc",
   "metadata": {},
   "outputs": [
    {
     "data": {
      "text/plain": [
       "Index(['user-age', 'user-income', 'user-savings', 'user-properties',\n",
       "       'user-dependents', 'user-pension', 'product-term', 'score',\n",
       "       'user-gender_female', 'user-gender_male', 'user-nationality_foreign',\n",
       "       'user-nationality_local', 'user-knowledge_high', 'user-knowledge_low',\n",
       "       'user-knowledge_medium', 'user-loyalty_long-term', 'user-loyalty_new',\n",
       "       'user-loyalty_sporadic', 'user-loan_no', 'user-loan_yes',\n",
       "       'user-riskAversion_high', 'user-riskAversion_low',\n",
       "       'user-marital_divorced', 'user-marital_married', 'user-marital_single',\n",
       "       'product-type_bond', 'product-type_etf', 'product-type_stock',\n",
       "       'product-risk_high', 'product-risk_low', 'product-risk_medium',\n",
       "       'product-yield_high', 'product-yield_low', 'product-yield_medium'],\n",
       "      dtype='object')"
      ]
     },
     "execution_count": 35,
     "metadata": {},
     "output_type": "execute_result"
    }
   ],
   "source": [
    "df.columns"
   ]
  },
  {
   "cell_type": "code",
   "execution_count": 36,
   "id": "1fadfa00",
   "metadata": {},
   "outputs": [
    {
     "data": {
      "text/html": [
       "<div>\n",
       "<style scoped>\n",
       "    .dataframe tbody tr th:only-of-type {\n",
       "        vertical-align: middle;\n",
       "    }\n",
       "\n",
       "    .dataframe tbody tr th {\n",
       "        vertical-align: top;\n",
       "    }\n",
       "\n",
       "    .dataframe thead th {\n",
       "        text-align: right;\n",
       "    }\n",
       "</style>\n",
       "<table border=\"1\" class=\"dataframe\">\n",
       "  <thead>\n",
       "    <tr style=\"text-align: right;\">\n",
       "      <th></th>\n",
       "      <th>user-age</th>\n",
       "      <th>user-income</th>\n",
       "      <th>user-savings</th>\n",
       "      <th>user-properties</th>\n",
       "      <th>product-term</th>\n",
       "      <th>score</th>\n",
       "      <th>user-gender_female</th>\n",
       "      <th>user-gender_male</th>\n",
       "      <th>user-nationality_foreign</th>\n",
       "      <th>user-nationality_local</th>\n",
       "      <th>...</th>\n",
       "      <th>user-marital_single</th>\n",
       "      <th>product-type_bond</th>\n",
       "      <th>product-type_etf</th>\n",
       "      <th>product-type_stock</th>\n",
       "      <th>product-risk_high</th>\n",
       "      <th>product-risk_low</th>\n",
       "      <th>product-risk_medium</th>\n",
       "      <th>product-yield_high</th>\n",
       "      <th>product-yield_low</th>\n",
       "      <th>product-yield_medium</th>\n",
       "    </tr>\n",
       "  </thead>\n",
       "  <tbody>\n",
       "    <tr>\n",
       "      <th>0</th>\n",
       "      <td>41</td>\n",
       "      <td>10402.0</td>\n",
       "      <td>132392.0</td>\n",
       "      <td>0</td>\n",
       "      <td>30</td>\n",
       "      <td>0.061877</td>\n",
       "      <td>1</td>\n",
       "      <td>0</td>\n",
       "      <td>0</td>\n",
       "      <td>1</td>\n",
       "      <td>...</td>\n",
       "      <td>0</td>\n",
       "      <td>1</td>\n",
       "      <td>0</td>\n",
       "      <td>0</td>\n",
       "      <td>0</td>\n",
       "      <td>0</td>\n",
       "      <td>1</td>\n",
       "      <td>0</td>\n",
       "      <td>0</td>\n",
       "      <td>1</td>\n",
       "    </tr>\n",
       "    <tr>\n",
       "      <th>1</th>\n",
       "      <td>41</td>\n",
       "      <td>10402.0</td>\n",
       "      <td>132392.0</td>\n",
       "      <td>0</td>\n",
       "      <td>10</td>\n",
       "      <td>0.179746</td>\n",
       "      <td>1</td>\n",
       "      <td>0</td>\n",
       "      <td>0</td>\n",
       "      <td>1</td>\n",
       "      <td>...</td>\n",
       "      <td>0</td>\n",
       "      <td>0</td>\n",
       "      <td>0</td>\n",
       "      <td>1</td>\n",
       "      <td>1</td>\n",
       "      <td>0</td>\n",
       "      <td>0</td>\n",
       "      <td>1</td>\n",
       "      <td>0</td>\n",
       "      <td>0</td>\n",
       "    </tr>\n",
       "    <tr>\n",
       "      <th>2</th>\n",
       "      <td>41</td>\n",
       "      <td>10402.0</td>\n",
       "      <td>132392.0</td>\n",
       "      <td>0</td>\n",
       "      <td>10</td>\n",
       "      <td>0.767918</td>\n",
       "      <td>1</td>\n",
       "      <td>0</td>\n",
       "      <td>0</td>\n",
       "      <td>1</td>\n",
       "      <td>...</td>\n",
       "      <td>0</td>\n",
       "      <td>0</td>\n",
       "      <td>1</td>\n",
       "      <td>0</td>\n",
       "      <td>1</td>\n",
       "      <td>0</td>\n",
       "      <td>0</td>\n",
       "      <td>1</td>\n",
       "      <td>0</td>\n",
       "      <td>0</td>\n",
       "    </tr>\n",
       "    <tr>\n",
       "      <th>3</th>\n",
       "      <td>41</td>\n",
       "      <td>10402.0</td>\n",
       "      <td>132392.0</td>\n",
       "      <td>0</td>\n",
       "      <td>20</td>\n",
       "      <td>0.606241</td>\n",
       "      <td>1</td>\n",
       "      <td>0</td>\n",
       "      <td>0</td>\n",
       "      <td>1</td>\n",
       "      <td>...</td>\n",
       "      <td>0</td>\n",
       "      <td>0</td>\n",
       "      <td>1</td>\n",
       "      <td>0</td>\n",
       "      <td>0</td>\n",
       "      <td>1</td>\n",
       "      <td>0</td>\n",
       "      <td>0</td>\n",
       "      <td>1</td>\n",
       "      <td>0</td>\n",
       "    </tr>\n",
       "    <tr>\n",
       "      <th>4</th>\n",
       "      <td>25</td>\n",
       "      <td>10402.0</td>\n",
       "      <td>51806.0</td>\n",
       "      <td>0</td>\n",
       "      <td>1</td>\n",
       "      <td>0.829035</td>\n",
       "      <td>0</td>\n",
       "      <td>1</td>\n",
       "      <td>0</td>\n",
       "      <td>1</td>\n",
       "      <td>...</td>\n",
       "      <td>1</td>\n",
       "      <td>0</td>\n",
       "      <td>1</td>\n",
       "      <td>0</td>\n",
       "      <td>0</td>\n",
       "      <td>1</td>\n",
       "      <td>0</td>\n",
       "      <td>0</td>\n",
       "      <td>1</td>\n",
       "      <td>0</td>\n",
       "    </tr>\n",
       "  </tbody>\n",
       "</table>\n",
       "<p>5 rows × 32 columns</p>\n",
       "</div>"
      ],
      "text/plain": [
       "   user-age  user-income  user-savings  user-properties  product-term  \\\n",
       "0        41      10402.0      132392.0                0            30   \n",
       "1        41      10402.0      132392.0                0            10   \n",
       "2        41      10402.0      132392.0                0            10   \n",
       "3        41      10402.0      132392.0                0            20   \n",
       "4        25      10402.0       51806.0                0             1   \n",
       "\n",
       "      score  user-gender_female  user-gender_male  user-nationality_foreign  \\\n",
       "0  0.061877                   1                 0                         0   \n",
       "1  0.179746                   1                 0                         0   \n",
       "2  0.767918                   1                 0                         0   \n",
       "3  0.606241                   1                 0                         0   \n",
       "4  0.829035                   0                 1                         0   \n",
       "\n",
       "   user-nationality_local  ...  user-marital_single  product-type_bond  \\\n",
       "0                       1  ...                    0                  1   \n",
       "1                       1  ...                    0                  0   \n",
       "2                       1  ...                    0                  0   \n",
       "3                       1  ...                    0                  0   \n",
       "4                       1  ...                    1                  0   \n",
       "\n",
       "   product-type_etf  product-type_stock  product-risk_high  product-risk_low  \\\n",
       "0                 0                   0                  0                 0   \n",
       "1                 0                   1                  1                 0   \n",
       "2                 1                   0                  1                 0   \n",
       "3                 1                   0                  0                 1   \n",
       "4                 1                   0                  0                 1   \n",
       "\n",
       "   product-risk_medium  product-yield_high  product-yield_low  \\\n",
       "0                    1                   0                  0   \n",
       "1                    0                   1                  0   \n",
       "2                    0                   1                  0   \n",
       "3                    0                   0                  1   \n",
       "4                    0                   0                  1   \n",
       "\n",
       "   product-yield_medium  \n",
       "0                     1  \n",
       "1                     0  \n",
       "2                     0  \n",
       "3                     0  \n",
       "4                     0  \n",
       "\n",
       "[5 rows x 32 columns]"
      ]
     },
     "execution_count": 36,
     "metadata": {},
     "output_type": "execute_result"
    }
   ],
   "source": [
    "df=df.drop(['user-dependents','user-pension'],axis=1)\n",
    "df.head()"
   ]
  },
  {
   "cell_type": "markdown",
   "id": "ca2010ef",
   "metadata": {},
   "source": [
    "5.Feature Engineering"
   ]
  },
  {
   "cell_type": "code",
   "execution_count": 37,
   "id": "0aa26688",
   "metadata": {},
   "outputs": [],
   "source": [
    "df['user-expenditure']=df['user-income']-df['user-savings']"
   ]
  },
  {
   "cell_type": "code",
   "execution_count": 38,
   "id": "f89bd196",
   "metadata": {},
   "outputs": [
    {
     "data": {
      "text/html": [
       "<div>\n",
       "<style scoped>\n",
       "    .dataframe tbody tr th:only-of-type {\n",
       "        vertical-align: middle;\n",
       "    }\n",
       "\n",
       "    .dataframe tbody tr th {\n",
       "        vertical-align: top;\n",
       "    }\n",
       "\n",
       "    .dataframe thead th {\n",
       "        text-align: right;\n",
       "    }\n",
       "</style>\n",
       "<table border=\"1\" class=\"dataframe\">\n",
       "  <thead>\n",
       "    <tr style=\"text-align: right;\">\n",
       "      <th></th>\n",
       "      <th>user-age</th>\n",
       "      <th>user-income</th>\n",
       "      <th>user-savings</th>\n",
       "      <th>user-properties</th>\n",
       "      <th>product-term</th>\n",
       "      <th>score</th>\n",
       "      <th>user-gender_female</th>\n",
       "      <th>user-gender_male</th>\n",
       "      <th>user-nationality_foreign</th>\n",
       "      <th>user-nationality_local</th>\n",
       "      <th>...</th>\n",
       "      <th>product-type_bond</th>\n",
       "      <th>product-type_etf</th>\n",
       "      <th>product-type_stock</th>\n",
       "      <th>product-risk_high</th>\n",
       "      <th>product-risk_low</th>\n",
       "      <th>product-risk_medium</th>\n",
       "      <th>product-yield_high</th>\n",
       "      <th>product-yield_low</th>\n",
       "      <th>product-yield_medium</th>\n",
       "      <th>user-expenditure</th>\n",
       "    </tr>\n",
       "  </thead>\n",
       "  <tbody>\n",
       "    <tr>\n",
       "      <th>0</th>\n",
       "      <td>41</td>\n",
       "      <td>10402.0</td>\n",
       "      <td>132392.0</td>\n",
       "      <td>0</td>\n",
       "      <td>30</td>\n",
       "      <td>0.061877</td>\n",
       "      <td>1</td>\n",
       "      <td>0</td>\n",
       "      <td>0</td>\n",
       "      <td>1</td>\n",
       "      <td>...</td>\n",
       "      <td>1</td>\n",
       "      <td>0</td>\n",
       "      <td>0</td>\n",
       "      <td>0</td>\n",
       "      <td>0</td>\n",
       "      <td>1</td>\n",
       "      <td>0</td>\n",
       "      <td>0</td>\n",
       "      <td>1</td>\n",
       "      <td>-121990.0</td>\n",
       "    </tr>\n",
       "    <tr>\n",
       "      <th>1</th>\n",
       "      <td>41</td>\n",
       "      <td>10402.0</td>\n",
       "      <td>132392.0</td>\n",
       "      <td>0</td>\n",
       "      <td>10</td>\n",
       "      <td>0.179746</td>\n",
       "      <td>1</td>\n",
       "      <td>0</td>\n",
       "      <td>0</td>\n",
       "      <td>1</td>\n",
       "      <td>...</td>\n",
       "      <td>0</td>\n",
       "      <td>0</td>\n",
       "      <td>1</td>\n",
       "      <td>1</td>\n",
       "      <td>0</td>\n",
       "      <td>0</td>\n",
       "      <td>1</td>\n",
       "      <td>0</td>\n",
       "      <td>0</td>\n",
       "      <td>-121990.0</td>\n",
       "    </tr>\n",
       "    <tr>\n",
       "      <th>2</th>\n",
       "      <td>41</td>\n",
       "      <td>10402.0</td>\n",
       "      <td>132392.0</td>\n",
       "      <td>0</td>\n",
       "      <td>10</td>\n",
       "      <td>0.767918</td>\n",
       "      <td>1</td>\n",
       "      <td>0</td>\n",
       "      <td>0</td>\n",
       "      <td>1</td>\n",
       "      <td>...</td>\n",
       "      <td>0</td>\n",
       "      <td>1</td>\n",
       "      <td>0</td>\n",
       "      <td>1</td>\n",
       "      <td>0</td>\n",
       "      <td>0</td>\n",
       "      <td>1</td>\n",
       "      <td>0</td>\n",
       "      <td>0</td>\n",
       "      <td>-121990.0</td>\n",
       "    </tr>\n",
       "    <tr>\n",
       "      <th>3</th>\n",
       "      <td>41</td>\n",
       "      <td>10402.0</td>\n",
       "      <td>132392.0</td>\n",
       "      <td>0</td>\n",
       "      <td>20</td>\n",
       "      <td>0.606241</td>\n",
       "      <td>1</td>\n",
       "      <td>0</td>\n",
       "      <td>0</td>\n",
       "      <td>1</td>\n",
       "      <td>...</td>\n",
       "      <td>0</td>\n",
       "      <td>1</td>\n",
       "      <td>0</td>\n",
       "      <td>0</td>\n",
       "      <td>1</td>\n",
       "      <td>0</td>\n",
       "      <td>0</td>\n",
       "      <td>1</td>\n",
       "      <td>0</td>\n",
       "      <td>-121990.0</td>\n",
       "    </tr>\n",
       "    <tr>\n",
       "      <th>4</th>\n",
       "      <td>25</td>\n",
       "      <td>10402.0</td>\n",
       "      <td>51806.0</td>\n",
       "      <td>0</td>\n",
       "      <td>1</td>\n",
       "      <td>0.829035</td>\n",
       "      <td>0</td>\n",
       "      <td>1</td>\n",
       "      <td>0</td>\n",
       "      <td>1</td>\n",
       "      <td>...</td>\n",
       "      <td>0</td>\n",
       "      <td>1</td>\n",
       "      <td>0</td>\n",
       "      <td>0</td>\n",
       "      <td>1</td>\n",
       "      <td>0</td>\n",
       "      <td>0</td>\n",
       "      <td>1</td>\n",
       "      <td>0</td>\n",
       "      <td>-41404.0</td>\n",
       "    </tr>\n",
       "  </tbody>\n",
       "</table>\n",
       "<p>5 rows × 33 columns</p>\n",
       "</div>"
      ],
      "text/plain": [
       "   user-age  user-income  user-savings  user-properties  product-term  \\\n",
       "0        41      10402.0      132392.0                0            30   \n",
       "1        41      10402.0      132392.0                0            10   \n",
       "2        41      10402.0      132392.0                0            10   \n",
       "3        41      10402.0      132392.0                0            20   \n",
       "4        25      10402.0       51806.0                0             1   \n",
       "\n",
       "      score  user-gender_female  user-gender_male  user-nationality_foreign  \\\n",
       "0  0.061877                   1                 0                         0   \n",
       "1  0.179746                   1                 0                         0   \n",
       "2  0.767918                   1                 0                         0   \n",
       "3  0.606241                   1                 0                         0   \n",
       "4  0.829035                   0                 1                         0   \n",
       "\n",
       "   user-nationality_local  ...  product-type_bond  product-type_etf  \\\n",
       "0                       1  ...                  1                 0   \n",
       "1                       1  ...                  0                 0   \n",
       "2                       1  ...                  0                 1   \n",
       "3                       1  ...                  0                 1   \n",
       "4                       1  ...                  0                 1   \n",
       "\n",
       "   product-type_stock  product-risk_high  product-risk_low  \\\n",
       "0                   0                  0                 0   \n",
       "1                   1                  1                 0   \n",
       "2                   0                  1                 0   \n",
       "3                   0                  0                 1   \n",
       "4                   0                  0                 1   \n",
       "\n",
       "   product-risk_medium  product-yield_high  product-yield_low  \\\n",
       "0                    1                   0                  0   \n",
       "1                    0                   1                  0   \n",
       "2                    0                   1                  0   \n",
       "3                    0                   0                  1   \n",
       "4                    0                   0                  1   \n",
       "\n",
       "   product-yield_medium  user-expenditure  \n",
       "0                     1         -121990.0  \n",
       "1                     0         -121990.0  \n",
       "2                     0         -121990.0  \n",
       "3                     0         -121990.0  \n",
       "4                     0          -41404.0  \n",
       "\n",
       "[5 rows x 33 columns]"
      ]
     },
     "execution_count": 38,
     "metadata": {},
     "output_type": "execute_result"
    }
   ],
   "source": [
    "df.head()"
   ]
  },
  {
   "cell_type": "code",
   "execution_count": 39,
   "id": "11432a2f",
   "metadata": {},
   "outputs": [],
   "source": [
    "#here we are creating a new column 'user-expenditure',which helps to find the product relevance"
   ]
  },
  {
   "cell_type": "code",
   "execution_count": 40,
   "id": "f6b53f51",
   "metadata": {},
   "outputs": [],
   "source": [
    "#spliting data into independent and dependent dataset\n",
    "X=df.drop(['score'],axis=1)\n",
    "y=df['score']"
   ]
  },
  {
   "cell_type": "markdown",
   "id": "8e049927",
   "metadata": {},
   "source": [
    "6.Scaling"
   ]
  },
  {
   "cell_type": "code",
   "execution_count": 41,
   "id": "b15ae9fa",
   "metadata": {},
   "outputs": [],
   "source": [
    "from sklearn.preprocessing import MinMaxScaler\n",
    "min_max = MinMaxScaler(feature_range =(0,1))\n",
    "X = min_max.fit_transform(X)"
   ]
  },
  {
   "cell_type": "code",
   "execution_count": 42,
   "id": "8521f1d2",
   "metadata": {},
   "outputs": [],
   "source": [
    "#here scaling is done with minmaxscalar"
   ]
  },
  {
   "cell_type": "markdown",
   "id": "067cf2a8",
   "metadata": {},
   "source": [
    "# 4.Modelling"
   ]
  },
  {
   "cell_type": "code",
   "execution_count": 95,
   "id": "78706f78",
   "metadata": {},
   "outputs": [
    {
     "data": {
      "text/plain": [
       "(7508, 32)"
      ]
     },
     "execution_count": 95,
     "metadata": {},
     "output_type": "execute_result"
    }
   ],
   "source": [
    "#Splitting the dataset into train data and test data\n",
    "from sklearn.model_selection import train_test_split\n",
    "X_train,X_test,y_train,y_test = train_test_split(X,y,random_state=42,test_size=0.3)\n",
    "X_train.shape"
   ]
  },
  {
   "cell_type": "code",
   "execution_count": 97,
   "id": "7dcadd2b",
   "metadata": {},
   "outputs": [],
   "source": [
    "#Linear Regression Model\n",
    "from sklearn import linear_model\n",
    "lr=linear_model.LinearRegression()\n",
    "model=lr.fit(X_train,y_train)\n",
    "predictions=model.predict(X_test)"
   ]
  },
  {
   "cell_type": "code",
   "execution_count": 99,
   "id": "a9ad1764",
   "metadata": {},
   "outputs": [
    {
     "name": "stdout",
     "output_type": "stream",
     "text": [
      "MSE is 0.08458944464738459\n"
     ]
    }
   ],
   "source": [
    "from sklearn.metrics import mean_squared_error\n",
    "print('MSE is',mean_squared_error(y_test,predictions))"
   ]
  },
  {
   "cell_type": "code",
   "execution_count": 100,
   "id": "eaf0ac00",
   "metadata": {},
   "outputs": [
    {
     "name": "stdout",
     "output_type": "stream",
     "text": [
      "R square value is: -0.0032636827283298864\n"
     ]
    }
   ],
   "source": [
    "from sklearn.metrics import r2_score\n",
    "print('R square value is:',r2_score(y_test,predictions))"
   ]
  },
  {
   "cell_type": "code",
   "execution_count": 108,
   "id": "e8c4b50b",
   "metadata": {},
   "outputs": [],
   "source": [
    "#Ridge Regression model\n",
    "from sklearn.linear_model import Ridge\n",
    "rr=Ridge()\n",
    "model=rr.fit(X_train,y_train)\n",
    "prediction1=model.predict(X_test)"
   ]
  },
  {
   "cell_type": "code",
   "execution_count": 109,
   "id": "77ed0525",
   "metadata": {},
   "outputs": [
    {
     "name": "stdout",
     "output_type": "stream",
     "text": [
      "MSE is 0.08458775173349595\n"
     ]
    }
   ],
   "source": [
    "print('MSE is',mean_squared_error(y_test,prediction1))"
   ]
  },
  {
   "cell_type": "code",
   "execution_count": 111,
   "id": "b003f1d2",
   "metadata": {},
   "outputs": [
    {
     "name": "stdout",
     "output_type": "stream",
     "text": [
      "R square value is: -0.0032436041117891445\n"
     ]
    }
   ],
   "source": [
    "print('R square value is:',r2_score(y_test,prediction1))"
   ]
  },
  {
   "cell_type": "code",
   "execution_count": 112,
   "id": "a0cc6fdf",
   "metadata": {},
   "outputs": [
    {
     "name": "stdout",
     "output_type": "stream",
     "text": [
      "MSE is 0.08433368202747807\n",
      "R square value is: -0.0002302386736809936\n"
     ]
    }
   ],
   "source": [
    "#Lasso Regression model\n",
    "from sklearn.linear_model import Lasso\n",
    "lasso=Lasso()\n",
    "model2=lasso.fit(X_train,y_train)\n",
    "prediction2=model2.predict(X_test)\n",
    "print('MSE is',mean_squared_error(y_test,prediction2))\n",
    "print('R square value is:',r2_score(y_test,prediction2))"
   ]
  },
  {
   "cell_type": "code",
   "execution_count": null,
   "id": "adda1aba",
   "metadata": {},
   "outputs": [],
   "source": [
    "#Among the three models Lassoregression model provides minimum MSE value"
   ]
  },
  {
   "cell_type": "markdown",
   "id": "cad5ce34",
   "metadata": {},
   "source": [
    "# Hyper parameter tuning"
   ]
  },
  {
   "cell_type": "code",
   "execution_count": 124,
   "id": "25328075",
   "metadata": {},
   "outputs": [
    {
     "name": "stdout",
     "output_type": "stream",
     "text": [
      "Parameters currently in use:\n",
      "\n",
      "{'copy_X': True,\n",
      " 'fit_intercept': True,\n",
      " 'n_jobs': None,\n",
      " 'normalize': False,\n",
      " 'positive': False}\n"
     ]
    }
   ],
   "source": [
    "from pprint import pprint\n",
    "\n",
    "lr=linear_model.LinearRegression()\n",
    "\n",
    "print('Parameters currently in use:\\n')\n",
    "pprint(lr.get_params())"
   ]
  },
  {
   "cell_type": "code",
   "execution_count": 126,
   "id": "d6655463",
   "metadata": {},
   "outputs": [
    {
     "name": "stdout",
     "output_type": "stream",
     "text": [
      "Parameters currently in use:\n",
      "\n",
      "{'alpha': 1.0,\n",
      " 'copy_X': True,\n",
      " 'fit_intercept': True,\n",
      " 'max_iter': None,\n",
      " 'normalize': False,\n",
      " 'random_state': None,\n",
      " 'solver': 'auto',\n",
      " 'tol': 0.001}\n"
     ]
    }
   ],
   "source": [
    "from pprint import pprint\n",
    "\n",
    "lr=linear_model.Ridge()\n",
    "\n",
    "print('Parameters currently in use:\\n')\n",
    "pprint(rr.get_params())\n"
   ]
  },
  {
   "cell_type": "markdown",
   "id": "bbe9909d",
   "metadata": {},
   "source": [
    "LassoRegression model is the best model"
   ]
  },
  {
   "cell_type": "code",
   "execution_count": null,
   "id": "cc1be289",
   "metadata": {},
   "outputs": [],
   "source": []
  }
 ],
 "metadata": {
  "kernelspec": {
   "display_name": "Python 3 (ipykernel)",
   "language": "python",
   "name": "python3"
  },
  "language_info": {
   "codemirror_mode": {
    "name": "ipython",
    "version": 3
   },
   "file_extension": ".py",
   "mimetype": "text/x-python",
   "name": "python",
   "nbconvert_exporter": "python",
   "pygments_lexer": "ipython3",
   "version": "3.9.7"
  }
 },
 "nbformat": 4,
 "nbformat_minor": 5
}
